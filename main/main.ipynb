{
 "cells": [
  {
   "cell_type": "code",
   "execution_count": 24,
   "metadata": {},
   "outputs": [
    {
     "name": "stdout",
     "output_type": "stream",
     "text": [
      "/Users/luisgonzales/Thesis/code_base/deep_calibration/main\n"
     ]
    }
   ],
   "source": [
    "import sys\n",
    "import os\n",
    "from tqdm import tqdm\n",
    "sys.path.append('/Users/luisgonzales/Thesis/code_base/deep_calibration/rbergomi')\n",
    "print(os.getcwd())"
   ]
  },
  {
   "cell_type": "code",
   "execution_count": 26,
   "metadata": {},
   "outputs": [],
   "source": [
    "import rbergomi \n",
    "import numpy as np\n",
    "import matplotlib.pyplot as plt\n",
    "import pandas as pd\n",
    "np.random.seed(42)"
   ]
  },
  {
   "cell_type": "code",
   "execution_count": 23,
   "metadata": {},
   "outputs": [
    {
     "data": {
      "text/plain": [
       "60000"
      ]
     },
     "execution_count": 23,
     "metadata": {},
     "output_type": "execute_result"
    }
   ],
   "source": [
    "rB = rbergomi.rBergomi(n = 100, N = 60000, T = 1.0, a = -0.43, method = 'rdonsker',)\n",
    "dW1 = rB.dW1()\n",
    "dW2 = rB.dW2()\n",
    "Y = rB.Y(dW1)\n",
    "dB = rB.dB(dW1, dW2, rho = -0.9)\n",
    "V = rB.V(Y, xi = 0.235**2, eta = 1.9)\n",
    "S = rB.S(V, dB) \n"
   ]
  },
  {
   "cell_type": "code",
   "execution_count": 31,
   "metadata": {},
   "outputs": [],
   "source": [
    "strikes=np.array([0.5,0.6,0.7,0.8,0.9,1.0,1.1,1.2,1.3,1.4,1.5 ])\n",
    "maturities=np.array([0.1,0.3,0.6,0.9,1.2,1.5,1.8,2.0 ])"
   ]
  },
  {
   "cell_type": "markdown",
   "metadata": {},
   "source": [
    "## Generate Synthetic MC Data for 80.000 different parameter combinations "
   ]
  },
  {
   "cell_type": "code",
   "execution_count": 28,
   "metadata": {},
   "outputs": [],
   "source": [
    "n = 100\n",
    "N = 60000\n",
    "T = 2.0  # Longest maturity\n",
    "method = 'rdonsker'\n",
    "S0 = 1.0\n",
    "r = 0.0  # Risk-free rate assumed 0"
   ]
  },
  {
   "cell_type": "code",
   "execution_count": 30,
   "metadata": {},
   "outputs": [],
   "source": [
    "num_combinations = 80000\n",
    "parameter_combinations = {\n",
    "    \"a\": np.random.uniform(-0.49, -0.3, num_combinations),\n",
    "    \"rho\": np.random.uniform(-0.99, -0.1, num_combinations),\n",
    "    \"xi\": np.random.uniform(0.01, 0.1, num_combinations),\n",
    "    \"eta\": np.random.uniform(0.5, 3.0, num_combinations),\n",
    "}"
   ]
  },
  {
   "cell_type": "code",
   "execution_count": null,
   "metadata": {},
   "outputs": [],
   "source": [
    "option_prices = np.zeros((num_combinations, len(maturities), len(strikes)))\n",
    "\n",
    "for i in tqdm(range(num_combinations), desc=\"Simulating parameter combinations...\"):\n",
    "    a = parameter_combinations[\"a\"][i]\n",
    "    rho = parameter_combinations[\"rho\"][i]\n",
    "    xi = parameter_combinations[\"xi\"][i]\n",
    "    eta = parameter_combinations[\"eta\"][i]\n",
    "\n",
    "    # paths\n",
    "    rB = rBergomi(n=n, N=N, T=T, a=a, method=method)\n",
    "    dW1 = rB.dW1()\n",
    "    dW2 = rB.dW2()\n",
    "    Y = rB.Y(dW1)\n",
    "    dB = rB.dB(dW1, dW2, rho=rho)\n",
    "    V = rB.V(Y, xi=xi, eta=eta)\n",
    "    S = rB.S(V, dB, S0=S0)\n",
    "\n",
    "    # Loop over each maturity and strike, compute option prices\n",
    "    for m_idx, T_i in enumerate(maturities):\n",
    "        t_idx = int(T_i * n)  # Index for this maturity\n",
    "\n",
    "        S_T = S[:, t_idx]\n",
    "        for k_idx, K in enumerate(strikes):\n",
    "            payoff = np.maximum(S_T - K, 0)\n",
    "            option_prices[i, m_idx, k_idx] = np.mean(payoff)\n",
    "\n",
    "# Save the pricing tensor for further IV inversion or NN training\n",
    "np.save(\"option_prices_80000x8x11.npy\", option_prices)"
   ]
  }
 ],
 "metadata": {
  "kernelspec": {
   "display_name": "venv",
   "language": "python",
   "name": "python3"
  },
  "language_info": {
   "codemirror_mode": {
    "name": "ipython",
    "version": 3
   },
   "file_extension": ".py",
   "mimetype": "text/x-python",
   "name": "python",
   "nbconvert_exporter": "python",
   "pygments_lexer": "ipython3",
   "version": "3.11.7"
  }
 },
 "nbformat": 4,
 "nbformat_minor": 2
}
