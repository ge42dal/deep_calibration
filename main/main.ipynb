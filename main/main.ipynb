{
 "cells": [
  {
   "cell_type": "code",
   "execution_count": 1,
   "metadata": {},
   "outputs": [
    {
     "name": "stdout",
     "output_type": "stream",
     "text": [
      "/Users/luisgonzales/Thesis/code_base/deep_calibration/main\n"
     ]
    }
   ],
   "source": [
    "import sys\n",
    "import os\n",
    "from tqdm import tqdm\n",
    "sys.path.append('/Users/luisgonzales/Thesis/code_base/deep_calibration/rbergomi')\n",
    "print(os.getcwd())"
   ]
  },
  {
   "cell_type": "code",
   "execution_count": 2,
   "metadata": {},
   "outputs": [],
   "source": [
    "from rbergomi import rBergomi\n",
    "import numpy as np\n",
    "import matplotlib.pyplot as plt\n",
    "import pandas as pd\n",
    "from utils import g, b, cov, generate_piecewise_forward_variance, generate_rDonsker_Y\n",
    "np.random.seed(42)"
   ]
  },
  {
   "cell_type": "markdown",
   "metadata": {},
   "source": [
    "## Define Grid (like in Horvath et al. 2021)"
   ]
  },
  {
   "cell_type": "code",
   "execution_count": 3,
   "metadata": {},
   "outputs": [],
   "source": [
    "strikes=np.array([0.5,0.6,0.7,0.8,0.9,1.0,1.1,1.2,1.3,1.4,1.5 ])\n",
    "maturities=np.array([0.1,0.3,0.6,0.9,1.2,1.5,1.8,2.0 ])"
   ]
  },
  {
   "cell_type": "markdown",
   "metadata": {},
   "source": [
    "## Generate Synthetic MC Data for 80.000 different parameter combinations "
   ]
  },
  {
   "cell_type": "code",
   "execution_count": 9,
   "metadata": {},
   "outputs": [],
   "source": [
    "num_combinations = 80000\n",
    "N = 60000  # number of Monte Carlo paths\n",
    "n = 100    # time steps per year\n",
    "T = 2.0    # max maturity\n",
    "S0 = 1.0\n",
    "method = 'hybrid'"
   ]
  },
  {
   "cell_type": "code",
   "execution_count": 10,
   "metadata": {},
   "outputs": [
    {
     "name": "stdout",
     "output_type": "stream",
     "text": [
      "xi_curves shape: (50, 201)\n"
     ]
    }
   ],
   "source": [
    "num_combinations = 50\n",
    "\n",
    "parameter_combinations = {\n",
    "    \"a\": np.random.uniform(-0.49, -0.3, num_combinations),\n",
    "    \"rho\": np.random.uniform(-0.99, -0.1, num_combinations),\n",
    "    \"xi_pieces\": np.array([np.random.uniform(0.01, 0.1, 8) for _ in range(num_combinations)]),\n",
    "    \"eta\": np.random.uniform(0.5, 3.0, num_combinations),\n",
    "}\n",
    "\n",
    "xi_curves = []\n",
    "for xi_vector in parameter_combinations[\"xi_pieces\"]:\n",
    "    xi_curve, _, _ = generate_piecewise_forward_variance(T=T, n=n, xi_pieces=xi_vector)\n",
    "    xi_curves.append(xi_curve)\n",
    "xi_curves = np.array(xi_curves)  # Shape: (80000, 201)\n",
    "print(\"xi_curves shape:\", xi_curves.shape)\n",
    "parameter_combinations[\"xi_curve\"] = xi_curves\n"
   ]
  },
  {
   "cell_type": "markdown",
   "metadata": {},
   "source": [
    "## Run MC Simulation"
   ]
  },
  {
   "cell_type": "code",
   "execution_count": 11,
   "metadata": {},
   "outputs": [
    {
     "name": "stderr",
     "output_type": "stream",
     "text": [
      "Simulating parameter combinations...: 100%|██████████| 50/50 [02:36<00:00,  3.13s/it]\n"
     ]
    }
   ],
   "source": [
    "option_prices = np.zeros((num_combinations, len(maturities), len(strikes)))\n",
    "for i in tqdm(range(num_combinations), desc=\"Simulating parameter combinations...\"):\n",
    "    a = parameter_combinations[\"a\"][i]\n",
    "    rho = parameter_combinations[\"rho\"][i]\n",
    "    xi = parameter_combinations[\"xi_curve\"][i]\n",
    "    eta = parameter_combinations[\"eta\"][i]\n",
    "\n",
    "    # Generate rBergomi paths\n",
    "    rB = rBergomi(n=n, N=N, T=T, a=a, method=method)\n",
    "    dW1 = rB.dW1()\n",
    "    dW2 = rB.dW2()\n",
    "    Y = rB.Y(dW1)\n",
    "    dB = rB.dB(dW1, dW2, rho=rho)\n",
    "    V = rB.V(Y, xi=xi, eta=eta)\n",
    "    S = rB.S(V, dB, S0=S0)\n",
    "\n",
    "    # Loop over each maturity and strike, compute option prices\n",
    "    for m_idx, T_i in enumerate(maturities):\n",
    "        t_idx = int(T_i * n)\n",
    "        S_T = S[:, t_idx]\n",
    "        for k_idx, K in enumerate(strikes):\n",
    "            payoff = np.maximum(S_T - K, 0)\n",
    "            option_prices[i, m_idx, k_idx] = np.mean(payoff)"
   ]
  },
  {
   "cell_type": "code",
   "execution_count": null,
   "metadata": {},
   "outputs": [],
   "source": []
  }
 ],
 "metadata": {
  "kernelspec": {
   "display_name": "venv",
   "language": "python",
   "name": "python3"
  },
  "language_info": {
   "codemirror_mode": {
    "name": "ipython",
    "version": 3
   },
   "file_extension": ".py",
   "mimetype": "text/x-python",
   "name": "python",
   "nbconvert_exporter": "python",
   "pygments_lexer": "ipython3",
   "version": "3.11.7"
  }
 },
 "nbformat": 4,
 "nbformat_minor": 2
}
