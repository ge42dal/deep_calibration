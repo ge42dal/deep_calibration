{
 "cells": [
  {
   "cell_type": "code",
   "execution_count": 24,
   "metadata": {},
   "outputs": [
    {
     "name": "stdout",
     "output_type": "stream",
     "text": [
      "/Users/luisgonzales/Thesis/code_base/deep_calibration/main\n"
     ]
    }
   ],
   "source": [
    "import sys\n",
    "import os\n",
    "from tqdm import tqdm\n",
    "sys.path.append('/Users/luisgonzales/Thesis/code_base/deep_calibration/rbergomi')\n",
    "print(os.getcwd())"
   ]
  },
  {
   "cell_type": "code",
   "execution_count": 37,
   "metadata": {},
   "outputs": [],
   "source": [
    "import rbergomi\n",
    "import numpy as np\n",
    "import matplotlib.pyplot as plt\n",
    "import pandas as pd\n",
    "from utils import *\n",
    "np.random.seed(42)"
   ]
  },
  {
   "cell_type": "markdown",
   "metadata": {},
   "source": [
    "## Define Grid (like in Horvath et al. 2021)"
   ]
  },
  {
   "cell_type": "code",
   "execution_count": 31,
   "metadata": {},
   "outputs": [],
   "source": [
    "strikes=np.array([0.5,0.6,0.7,0.8,0.9,1.0,1.1,1.2,1.3,1.4,1.5 ])\n",
    "maturities=np.array([0.1,0.3,0.6,0.9,1.2,1.5,1.8,2.0 ])"
   ]
  },
  {
   "cell_type": "markdown",
   "metadata": {},
   "source": [
    "## Generate Synthetic MC Data for 80.000 different parameter combinations "
   ]
  },
  {
   "cell_type": "code",
   "execution_count": 28,
   "metadata": {},
   "outputs": [],
   "source": [
    "n = 100\n",
    "N = 60000\n",
    "T = 2.0  # Longest maturity\n",
    "method = 'rdonsker'\n",
    "S0 = 1.0\n",
    "r = 0.0  # Risk-free rate assumed 0"
   ]
  },
  {
   "cell_type": "code",
   "execution_count": 30,
   "metadata": {},
   "outputs": [],
   "source": [
    "num_combinations = 80000\n",
    "parameter_combinations = {\n",
    "    \"a\": np.random.uniform(-0.49, -0.3, num_combinations),\n",
    "    \"rho\": np.random.uniform(-0.99, -0.1, num_combinations),\n",
    "    #\"xi\": np.random.uniform(0.01, 0.1, num_combinations),\n",
    "    \"xi\": [np.random.uniform(0.01, 0.1, 8) for _ in range(num_combinations)]\n",
    "    \"eta\": np.random.uniform(0.5, 3.0, num_combinations),\n",
    "}"
   ]
  },
  {
   "cell_type": "code",
   "execution_count": 32,
   "metadata": {},
   "outputs": [
    {
     "name": "stderr",
     "output_type": "stream",
     "text": [
      "Simulating parameter combinations...:   0%|          | 0/80000 [00:01<?, ?it/s]\n"
     ]
    },
    {
     "ename": "ValueError",
     "evalue": "operands could not be broadcast together with shapes (60000,101) (1,201) ",
     "output_type": "error",
     "traceback": [
      "\u001b[0;31m---------------------------------------------------------------------------\u001b[0m",
      "\u001b[0;31mValueError\u001b[0m                                Traceback (most recent call last)",
      "Cell \u001b[0;32mIn[32], line 15\u001b[0m\n\u001b[1;32m     13\u001b[0m Y \u001b[38;5;241m=\u001b[39m rB\u001b[38;5;241m.\u001b[39mY(dW1)\n\u001b[1;32m     14\u001b[0m dB \u001b[38;5;241m=\u001b[39m rB\u001b[38;5;241m.\u001b[39mdB(dW1, dW2, rho\u001b[38;5;241m=\u001b[39mrho)\n\u001b[0;32m---> 15\u001b[0m V \u001b[38;5;241m=\u001b[39m rB\u001b[38;5;241m.\u001b[39mV(Y, xi\u001b[38;5;241m=\u001b[39mxi, eta\u001b[38;5;241m=\u001b[39meta)\n\u001b[1;32m     16\u001b[0m S \u001b[38;5;241m=\u001b[39m rB\u001b[38;5;241m.\u001b[39mS(V, dB, S0\u001b[38;5;241m=\u001b[39mS0)\n\u001b[1;32m     18\u001b[0m \u001b[38;5;66;03m# Loop over each maturity and strike, compute option prices\u001b[39;00m\n",
      "File \u001b[0;32m~/Thesis/code_base/deep_calibration/rbergomi/rbergomi.py:105\u001b[0m, in \u001b[0;36mrBergomi.V\u001b[0;34m(self, Y, xi, eta)\u001b[0m\n\u001b[1;32m    102\u001b[0m \u001b[38;5;28;01mif\u001b[39;00m np\u001b[38;5;241m.\u001b[39misscalar(xi):\n\u001b[1;32m    103\u001b[0m     \u001b[38;5;66;03m# Constant forward variance\u001b[39;00m\n\u001b[1;32m    104\u001b[0m     xi_t \u001b[38;5;241m=\u001b[39m xi \u001b[38;5;241m*\u001b[39m np\u001b[38;5;241m.\u001b[39mones_like(\u001b[38;5;28mself\u001b[39m\u001b[38;5;241m.\u001b[39mt)\n\u001b[0;32m--> 105\u001b[0m \u001b[38;5;28;01melif\u001b[39;00m \u001b[38;5;28misinstance\u001b[39m(xi, (\u001b[38;5;28mlist\u001b[39m, np\u001b[38;5;241m.\u001b[39mndarray)):\n\u001b[1;32m    106\u001b[0m     xi \u001b[38;5;241m=\u001b[39m np\u001b[38;5;241m.\u001b[39marray(xi)\n\u001b[1;32m    107\u001b[0m     \u001b[38;5;28;01mif\u001b[39;00m xi\u001b[38;5;241m.\u001b[39mndim \u001b[38;5;241m==\u001b[39m \u001b[38;5;241m1\u001b[39m \u001b[38;5;129;01mand\u001b[39;00m \u001b[38;5;28mlen\u001b[39m(xi) \u001b[38;5;241m<\u001b[39m \u001b[38;5;28mself\u001b[39m\u001b[38;5;241m.\u001b[39ms:\n\u001b[1;32m    108\u001b[0m         \u001b[38;5;66;03m# Interpolate piecewise constant forward variance\u001b[39;00m\n",
      "\u001b[0;31mValueError\u001b[0m: operands could not be broadcast together with shapes (60000,101) (1,201) "
     ]
    }
   ],
   "source": [
    "option_prices = np.zeros((num_combinations, len(maturities), len(strikes)))\n",
    "\n",
    "for i in tqdm(range(num_combinations), desc=\"Simulating parameter combinations...\"):\n",
    "    a = parameter_combinations[\"a\"][i]\n",
    "    rho = parameter_combinations[\"rho\"][i]\n",
    "    xi = parameter_combinations[\"xi\"][i]\n",
    "    eta = parameter_combinations[\"eta\"][i]\n",
    "\n",
    "    # paths\n",
    "    rB = rBergomi(n=n, N=N, T=T, a=a, method=method)\n",
    "    dW1 = rB.dW1()\n",
    "    dW2 = rB.dW2()\n",
    "    Y = rB.Y(dW1)\n",
    "    dB = rB.dB(dW1, dW2, rho=rho)\n",
    "    V = rB.V(Y, xi=xi, eta=eta)\n",
    "    S = rB.S(V, dB, S0=S0)\n",
    "\n",
    "    # Loop over each maturity and strike, compute option prices\n",
    "    for m_idx, T_i in enumerate(maturities):\n",
    "        t_idx = int(T_i * n)  # Index for this maturity\n",
    "\n",
    "        S_T = S[:, t_idx]\n",
    "        for k_idx, K in enumerate(strikes):\n",
    "            payoff = np.maximum(S_T - K, 0)\n",
    "            option_prices[i, m_idx, k_idx] = np.mean(payoff)\n",
    "\n",
    "# Save the pricing tensor for further IV inversion or NN training\n",
    "np.save(\"option_prices_80000x8x11.npy\", option_prices)"
   ]
  },
  {
   "cell_type": "code",
   "execution_count": 33,
   "metadata": {},
   "outputs": [
    {
     "ename": "NameError",
     "evalue": "name 'generate_piecewise_forward_variance' is not defined",
     "output_type": "error",
     "traceback": [
      "\u001b[0;31m---------------------------------------------------------------------------\u001b[0m",
      "\u001b[0;31mNameError\u001b[0m                                 Traceback (most recent call last)",
      "Cell \u001b[0;32mIn[33], line 1\u001b[0m\n\u001b[0;32m----> 1\u001b[0m xi_curve, t_grid, xi_pieces \u001b[38;5;241m=\u001b[39m generate_piecewise_forward_variance(T\u001b[38;5;241m=\u001b[39mmodel\u001b[38;5;241m.\u001b[39mT, n\u001b[38;5;241m=\u001b[39mmodel\u001b[38;5;241m.\u001b[39mn)\n\u001b[1;32m      3\u001b[0m plt\u001b[38;5;241m.\u001b[39mfigure(figsize\u001b[38;5;241m=\u001b[39m(\u001b[38;5;241m10\u001b[39m, \u001b[38;5;241m6\u001b[39m))\n\u001b[1;32m      4\u001b[0m plt\u001b[38;5;241m.\u001b[39mplot(xi_curve, t_grid, label\u001b[38;5;241m=\u001b[39m\u001b[38;5;124m'\u001b[39m\u001b[38;5;124mPiecewise Forward Variance Curve\u001b[39m\u001b[38;5;124m'\u001b[39m)\n",
      "\u001b[0;31mNameError\u001b[0m: name 'generate_piecewise_forward_variance' is not defined"
     ]
    }
   ],
   "source": [
    "xi_curve, t_grid, xi_pieces = generate_piecewise_forward_variance(T=model.T, n=model.n)\n",
    "\n",
    "plt.figure(figsize=(10, 6))\n",
    "plt.plot(xi_curve, t_grid, label='Piecewise Forward Variance Curve')\n",
    "plt.show()"
   ]
  },
  {
   "cell_type": "code",
   "execution_count": null,
   "metadata": {},
   "outputs": [],
   "source": []
  }
 ],
 "metadata": {
  "kernelspec": {
   "display_name": "venv",
   "language": "python",
   "name": "python3"
  },
  "language_info": {
   "codemirror_mode": {
    "name": "ipython",
    "version": 3
   },
   "file_extension": ".py",
   "mimetype": "text/x-python",
   "name": "python",
   "nbconvert_exporter": "python",
   "pygments_lexer": "ipython3",
   "version": "3.11.7"
  }
 },
 "nbformat": 4,
 "nbformat_minor": 2
}
